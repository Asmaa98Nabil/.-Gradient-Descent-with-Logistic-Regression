{
 "cells": [
  {
   "cell_type": "code",
   "execution_count": 2,
   "id": "e7d36e91",
   "metadata": {},
   "outputs": [],
   "source": [
    "import pandas as pd\n",
    "import numpy as np\n",
    "from numpy import log, dot, e\n",
    "from numpy.random import rand\n",
    "import matplotlib.pyplot as plt\n",
    "from sklearn.metrics import confusion_matrix, classification_report\n",
    "from sklearn.datasets import load_breast_cancer\n",
    "from sklearn.preprocessing import MinMaxScaler\n",
    "from sklearn.model_selection import train_test_split"
   ]
  },
  {
   "cell_type": "markdown",
   "id": "6b267404",
   "metadata": {},
   "source": [
    "first, load the data of breast cancer , and X will be the features and y will be the labels ,then feature name for each column which represents each X"
   ]
  },
  {
   "cell_type": "code",
   "execution_count": 3,
   "id": "1edf9ff8",
   "metadata": {},
   "outputs": [],
   "source": [
    "X = load_breast_cancer()['data']\n",
    "y = load_breast_cancer()['target']\n",
    "feature_names = load_breast_cancer()['feature_names'] "
   ]
  },
  {
   "cell_type": "code",
   "execution_count": 4,
   "id": "23ee277f",
   "metadata": {},
   "outputs": [
    {
     "data": {
      "text/plain": [
       "(569, 30)"
      ]
     },
     "execution_count": 4,
     "metadata": {},
     "output_type": "execute_result"
    }
   ],
   "source": [
    "X.shape"
   ]
  },
  {
   "cell_type": "code",
   "execution_count": 5,
   "id": "8ed9cb43",
   "metadata": {},
   "outputs": [],
   "source": [
    "#y.shape"
   ]
  },
  {
   "cell_type": "code",
   "execution_count": 6,
   "id": "74cdd131",
   "metadata": {},
   "outputs": [],
   "source": [
    "#Y=y.reshape((-1,1))"
   ]
  },
  {
   "cell_type": "code",
   "execution_count": 7,
   "id": "dbffa0be",
   "metadata": {},
   "outputs": [],
   "source": [
    "#Y.shape"
   ]
  },
  {
   "cell_type": "code",
   "execution_count": 8,
   "id": "5ae5be92",
   "metadata": {},
   "outputs": [
    {
     "data": {
      "text/plain": [
       "\"plt.style.use('seaborn-whitegrid')\\nplt.rcParams['figure.dpi'] = 227\\nplt.rcParams['figure.figsize'] = (16,3)\\nplt.barh(['Malignant','Benign'],[sum(y), len(y)-sum(y)], height=0.3)\\nplt.title('Class Distribution', fontSize=15)\\nplt.show()\""
      ]
     },
     "execution_count": 8,
     "metadata": {},
     "output_type": "execute_result"
    }
   ],
   "source": [
    "\"\"\"plt.style.use('seaborn-whitegrid')\n",
    "plt.rcParams['figure.dpi'] = 227\n",
    "plt.rcParams['figure.figsize'] = (16,3)\n",
    "plt.barh(['Malignant','Benign'],[sum(y), len(y)-sum(y)], height=0.3)\n",
    "plt.title('Class Distribution', fontSize=15)\n",
    "plt.show()\"\"\""
   ]
  },
  {
   "cell_type": "code",
   "execution_count": 9,
   "id": "2cbc03b6",
   "metadata": {},
   "outputs": [
    {
     "data": {
      "text/plain": [
       "'plt.style.use(\\'seaborn-whitegrid\\')\\nplt.rcParams[\\'figure.dpi\\'] = 227\\nplt.rcParams[\\'figure.figsize\\'] = (16,6)\\n\\n#plt.subplot(121)\\nplt.plot(np.linspace(0.001, 0.999, 100), [abs(np.log(i)) for i in np.linspace(0.001, 0.999, 100)], label=\\'If true value = 1\\')\\nplt.plot(np.linspace(0.001, 0.999, 100), [abs(np.log(1 - i)) for i in np.linspace(0.001, 0.999, 100)], label=\\'If true value = 0\\')\\n\\nplt.plot(0.16, 1.818352371073392, marker=\\'.\\', markersize=15, c=\\'k\\', label=\\'Predicted value\\')\\nplt.plot(0.16, 0.17708679723835707, marker=\\'.\\', markersize=15, c=\\'k\\')\\n\\nplt.axvline(0.16, c=\\'k\\', alpha=0.3, ls=\\'--\\', lw=1)\\n\\nplt.annotate(\"\", xy=(0.22, 2), xytext=(0.16, 2.5), arrowprops=dict(arrowstyle=\"->\"))\\nplt.annotate(\"\", xy=(0.1, 0.55), xytext=(0.16, 0.66), arrowprops=dict(arrowstyle=\"->\"))\\n\\nplt.legend(loc=(0.415,0.67), frameon=True, fontsize=14, borderpad=.6)\\nplt.title(\\'Binary Cross-Entropy Loss\\', fontSize=17)\\nplt.xlabel(\\'Predicted Value\\', fontSize=14)\\nplt.ylabel(\\'Loss\\', fontSize=14)\\nplt.show()'"
      ]
     },
     "execution_count": 9,
     "metadata": {},
     "output_type": "execute_result"
    }
   ],
   "source": [
    "\"\"\"plt.style.use('seaborn-whitegrid')\n",
    "plt.rcParams['figure.dpi'] = 227\n",
    "plt.rcParams['figure.figsize'] = (16,6)\n",
    "\n",
    "#plt.subplot(121)\n",
    "plt.plot(np.linspace(0.001, 0.999, 100), [abs(np.log(i)) for i in np.linspace(0.001, 0.999, 100)], label='If true value = 1')\n",
    "plt.plot(np.linspace(0.001, 0.999, 100), [abs(np.log(1 - i)) for i in np.linspace(0.001, 0.999, 100)], label='If true value = 0')\n",
    "\n",
    "plt.plot(0.16, 1.818352371073392, marker='.', markersize=15, c='k', label='Predicted value')\n",
    "plt.plot(0.16, 0.17708679723835707, marker='.', markersize=15, c='k')\n",
    "\n",
    "plt.axvline(0.16, c='k', alpha=0.3, ls='--', lw=1)\n",
    "\n",
    "plt.annotate(\"\", xy=(0.22, 2), xytext=(0.16, 2.5), arrowprops=dict(arrowstyle=\"->\"))\n",
    "plt.annotate(\"\", xy=(0.1, 0.55), xytext=(0.16, 0.66), arrowprops=dict(arrowstyle=\"->\"))\n",
    "\n",
    "plt.legend(loc=(0.415,0.67), frameon=True, fontsize=14, borderpad=.6)\n",
    "plt.title('Binary Cross-Entropy Loss', fontSize=17)\n",
    "plt.xlabel('Predicted Value', fontSize=14)\n",
    "plt.ylabel('Loss', fontSize=14)\n",
    "plt.show()\"\"\""
   ]
  },
  {
   "cell_type": "markdown",
   "id": "89666af3",
   "metadata": {},
   "source": [
    "Now, concatianate the target column into the features dataframe to have all in one table"
   ]
  },
  {
   "cell_type": "code",
   "execution_count": 18,
   "id": "4b787098",
   "metadata": {},
   "outputs": [
    {
     "data": {
      "text/html": [
       "<div>\n",
       "<style scoped>\n",
       "    .dataframe tbody tr th:only-of-type {\n",
       "        vertical-align: middle;\n",
       "    }\n",
       "\n",
       "    .dataframe tbody tr th {\n",
       "        vertical-align: top;\n",
       "    }\n",
       "\n",
       "    .dataframe thead th {\n",
       "        text-align: right;\n",
       "    }\n",
       "</style>\n",
       "<table border=\"1\" class=\"dataframe\">\n",
       "  <thead>\n",
       "    <tr style=\"text-align: right;\">\n",
       "      <th></th>\n",
       "      <th>mean radius</th>\n",
       "      <th>mean texture</th>\n",
       "      <th>mean perimeter</th>\n",
       "      <th>mean area</th>\n",
       "      <th>mean smoothness</th>\n",
       "      <th>mean compactness</th>\n",
       "      <th>mean concavity</th>\n",
       "      <th>mean concave points</th>\n",
       "      <th>mean symmetry</th>\n",
       "      <th>mean fractal dimension</th>\n",
       "      <th>...</th>\n",
       "      <th>worst texture</th>\n",
       "      <th>worst perimeter</th>\n",
       "      <th>worst area</th>\n",
       "      <th>worst smoothness</th>\n",
       "      <th>worst compactness</th>\n",
       "      <th>worst concavity</th>\n",
       "      <th>worst concave points</th>\n",
       "      <th>worst symmetry</th>\n",
       "      <th>worst fractal dimension</th>\n",
       "      <th>Target</th>\n",
       "    </tr>\n",
       "  </thead>\n",
       "  <tbody>\n",
       "    <tr>\n",
       "      <th>0</th>\n",
       "      <td>17.99</td>\n",
       "      <td>10.38</td>\n",
       "      <td>122.80</td>\n",
       "      <td>1001.0</td>\n",
       "      <td>0.11840</td>\n",
       "      <td>0.27760</td>\n",
       "      <td>0.3001</td>\n",
       "      <td>0.14710</td>\n",
       "      <td>0.2419</td>\n",
       "      <td>0.07871</td>\n",
       "      <td>...</td>\n",
       "      <td>17.33</td>\n",
       "      <td>184.60</td>\n",
       "      <td>2019.0</td>\n",
       "      <td>0.1622</td>\n",
       "      <td>0.6656</td>\n",
       "      <td>0.7119</td>\n",
       "      <td>0.2654</td>\n",
       "      <td>0.4601</td>\n",
       "      <td>0.11890</td>\n",
       "      <td>0.0</td>\n",
       "    </tr>\n",
       "    <tr>\n",
       "      <th>1</th>\n",
       "      <td>20.57</td>\n",
       "      <td>17.77</td>\n",
       "      <td>132.90</td>\n",
       "      <td>1326.0</td>\n",
       "      <td>0.08474</td>\n",
       "      <td>0.07864</td>\n",
       "      <td>0.0869</td>\n",
       "      <td>0.07017</td>\n",
       "      <td>0.1812</td>\n",
       "      <td>0.05667</td>\n",
       "      <td>...</td>\n",
       "      <td>23.41</td>\n",
       "      <td>158.80</td>\n",
       "      <td>1956.0</td>\n",
       "      <td>0.1238</td>\n",
       "      <td>0.1866</td>\n",
       "      <td>0.2416</td>\n",
       "      <td>0.1860</td>\n",
       "      <td>0.2750</td>\n",
       "      <td>0.08902</td>\n",
       "      <td>0.0</td>\n",
       "    </tr>\n",
       "    <tr>\n",
       "      <th>2</th>\n",
       "      <td>19.69</td>\n",
       "      <td>21.25</td>\n",
       "      <td>130.00</td>\n",
       "      <td>1203.0</td>\n",
       "      <td>0.10960</td>\n",
       "      <td>0.15990</td>\n",
       "      <td>0.1974</td>\n",
       "      <td>0.12790</td>\n",
       "      <td>0.2069</td>\n",
       "      <td>0.05999</td>\n",
       "      <td>...</td>\n",
       "      <td>25.53</td>\n",
       "      <td>152.50</td>\n",
       "      <td>1709.0</td>\n",
       "      <td>0.1444</td>\n",
       "      <td>0.4245</td>\n",
       "      <td>0.4504</td>\n",
       "      <td>0.2430</td>\n",
       "      <td>0.3613</td>\n",
       "      <td>0.08758</td>\n",
       "      <td>0.0</td>\n",
       "    </tr>\n",
       "    <tr>\n",
       "      <th>3</th>\n",
       "      <td>11.42</td>\n",
       "      <td>20.38</td>\n",
       "      <td>77.58</td>\n",
       "      <td>386.1</td>\n",
       "      <td>0.14250</td>\n",
       "      <td>0.28390</td>\n",
       "      <td>0.2414</td>\n",
       "      <td>0.10520</td>\n",
       "      <td>0.2597</td>\n",
       "      <td>0.09744</td>\n",
       "      <td>...</td>\n",
       "      <td>26.50</td>\n",
       "      <td>98.87</td>\n",
       "      <td>567.7</td>\n",
       "      <td>0.2098</td>\n",
       "      <td>0.8663</td>\n",
       "      <td>0.6869</td>\n",
       "      <td>0.2575</td>\n",
       "      <td>0.6638</td>\n",
       "      <td>0.17300</td>\n",
       "      <td>0.0</td>\n",
       "    </tr>\n",
       "    <tr>\n",
       "      <th>4</th>\n",
       "      <td>20.29</td>\n",
       "      <td>14.34</td>\n",
       "      <td>135.10</td>\n",
       "      <td>1297.0</td>\n",
       "      <td>0.10030</td>\n",
       "      <td>0.13280</td>\n",
       "      <td>0.1980</td>\n",
       "      <td>0.10430</td>\n",
       "      <td>0.1809</td>\n",
       "      <td>0.05883</td>\n",
       "      <td>...</td>\n",
       "      <td>16.67</td>\n",
       "      <td>152.20</td>\n",
       "      <td>1575.0</td>\n",
       "      <td>0.1374</td>\n",
       "      <td>0.2050</td>\n",
       "      <td>0.4000</td>\n",
       "      <td>0.1625</td>\n",
       "      <td>0.2364</td>\n",
       "      <td>0.07678</td>\n",
       "      <td>0.0</td>\n",
       "    </tr>\n",
       "  </tbody>\n",
       "</table>\n",
       "<p>5 rows × 31 columns</p>\n",
       "</div>"
      ],
      "text/plain": [
       "   mean radius  mean texture  mean perimeter  mean area  mean smoothness  \\\n",
       "0        17.99         10.38          122.80     1001.0          0.11840   \n",
       "1        20.57         17.77          132.90     1326.0          0.08474   \n",
       "2        19.69         21.25          130.00     1203.0          0.10960   \n",
       "3        11.42         20.38           77.58      386.1          0.14250   \n",
       "4        20.29         14.34          135.10     1297.0          0.10030   \n",
       "\n",
       "   mean compactness  mean concavity  mean concave points  mean symmetry  \\\n",
       "0           0.27760          0.3001              0.14710         0.2419   \n",
       "1           0.07864          0.0869              0.07017         0.1812   \n",
       "2           0.15990          0.1974              0.12790         0.2069   \n",
       "3           0.28390          0.2414              0.10520         0.2597   \n",
       "4           0.13280          0.1980              0.10430         0.1809   \n",
       "\n",
       "   mean fractal dimension  ...  worst texture  worst perimeter  worst area  \\\n",
       "0                 0.07871  ...          17.33           184.60      2019.0   \n",
       "1                 0.05667  ...          23.41           158.80      1956.0   \n",
       "2                 0.05999  ...          25.53           152.50      1709.0   \n",
       "3                 0.09744  ...          26.50            98.87       567.7   \n",
       "4                 0.05883  ...          16.67           152.20      1575.0   \n",
       "\n",
       "   worst smoothness  worst compactness  worst concavity  worst concave points  \\\n",
       "0            0.1622             0.6656           0.7119                0.2654   \n",
       "1            0.1238             0.1866           0.2416                0.1860   \n",
       "2            0.1444             0.4245           0.4504                0.2430   \n",
       "3            0.2098             0.8663           0.6869                0.2575   \n",
       "4            0.1374             0.2050           0.4000                0.1625   \n",
       "\n",
       "   worst symmetry  worst fractal dimension  Target  \n",
       "0          0.4601                  0.11890     0.0  \n",
       "1          0.2750                  0.08902     0.0  \n",
       "2          0.3613                  0.08758     0.0  \n",
       "3          0.6638                  0.17300     0.0  \n",
       "4          0.2364                  0.07678     0.0  \n",
       "\n",
       "[5 rows x 31 columns]"
      ]
     },
     "execution_count": 18,
     "metadata": {},
     "output_type": "execute_result"
    }
   ],
   "source": [
    "pd.DataFrame(np.concatenate((X, y[:, None]), axis=1), columns=np.append(feature_names, 'Target')).head()"
   ]
  },
  {
   "cell_type": "markdown",
   "id": "09bb1f92",
   "metadata": {},
   "source": [
    "starting in preprocessing using MinMaxScaler to transform features-> by scaling each feature to a given range\n",
    "The transformation is given by: X_std = (X - X.min(axis=0)) / (X.max(axis=0) - X.min(axis=0))\n",
    "                                X_scaled = X_std * (max - min) + min\n",
    "then fit this to the data                                \n",
    "                                "
   ]
  },
  {
   "cell_type": "code",
   "execution_count": 19,
   "id": "9ba5391a",
   "metadata": {},
   "outputs": [],
   "source": [
    "scaler = MinMaxScaler(feature_range=(-1, 1))\n",
    "X_scaled = scaler.fit_transform(X)"
   ]
  },
  {
   "cell_type": "markdown",
   "id": "1b559891",
   "metadata": {},
   "source": [
    "Now,split the data into training set and test set(33%) of our data"
   ]
  },
  {
   "cell_type": "code",
   "execution_count": 21,
   "id": "3c87f07d",
   "metadata": {},
   "outputs": [],
   "source": [
    "X_train, X_test, y_train, y_test = train_test_split(X_scaled, y, test_size=0.33, random_state=42)"
   ]
  },
  {
   "cell_type": "markdown",
   "id": "8d2ad929",
   "metadata": {},
   "source": [
    "first in logestic regression is the segmoid function ,cause we have a data that will not be able to separate using linear line\n",
    ",so segmoid function limit the predicted output between 0 and 1.\n",
    "\n",
    "Second calculate losses between the predicted labels and the true labels .\n",
    "\n",
    "Third weights will be chosen randomly at each iteration ,(updating the parameters) till reaching the convergence.\n",
    "\n",
    "\n",
    "after that gradient descent is  the algorithm that will collect all those functions to updata the parameters till reaching the convergence.\n",
    "\n",
    "now the dicesion will be binary if it >0.5 it will be predicted =1 if <0.5 it will be 0"
   ]
  },
  {
   "cell_type": "code",
   "execution_count": 30,
   "id": "b1cf5bda",
   "metadata": {},
   "outputs": [],
   "source": [
    "class LogisticRegression:\n",
    "    \n",
    "    def sigmoid(self, z): return 1 / (1 + e**(-z))\n",
    "    \n",
    "    def cost_function(self, X, y, weights):                 \n",
    "        z = dot(X, weights)        \n",
    "        predict_1 = y * log(self.sigmoid(z))\n",
    "        predict_0 = (1 - y) * log(1 - self.sigmoid(z))        \n",
    "        return -sum(predict_1 + predict_0) / len(X)\n",
    "    \n",
    "    def fit(self, X, y, epochs=25, lr=0.05):        \n",
    "        loss = []\n",
    "        weights = rand(X.shape[1])\n",
    "        N = len(X)\n",
    "                 \n",
    "        for _ in range(epochs):        \n",
    "            # Gradient Descent\n",
    "            y_hat = self.sigmoid(dot(X, weights))\n",
    "            weights -= lr * dot(X.T,  y_hat - y) / N            \n",
    "            # Saving Progress\n",
    "            loss.append(self.cost_function(X, y, weights)) \n",
    "            \n",
    "        self.weights = weights\n",
    "        self.loss = loss\n",
    "    \n",
    "    def predict(self, X):        \n",
    "        # Predicting with sigmoid function\n",
    "        z = dot(X, self.weights)\n",
    "        # Returning binary result\n",
    "        return [1 if i > 0.5 else 0 for i in self.sigmoid(z)]"
   ]
  },
  {
   "cell_type": "code",
   "execution_count": 31,
   "id": "a5c9efb1",
   "metadata": {},
   "outputs": [],
   "source": [
    "logreg = LogisticRegression()\n",
    "logreg.fit(X_train, y_train, epochs=500, lr=0.5)\n",
    "y_pred = logreg.predict(X_test)"
   ]
  },
  {
   "cell_type": "markdown",
   "id": "5a88c991",
   "metadata": {},
   "source": [
    "Precision means: how many are correctly classified in this case.\n",
    "\n",
    "Recall means: how many of this class detected over the whole number of element of \n",
    "this class.\n",
    "\n",
    "F1-score means: mean between precision and recall.\n"
   ]
  },
  {
   "cell_type": "code",
   "execution_count": 36,
   "id": "c8ba48ea",
   "metadata": {},
   "outputs": [
    {
     "name": "stdout",
     "output_type": "stream",
     "text": [
      "              precision    recall  f1-score   support\n",
      "\n",
      "           0       0.95      0.94      0.95        67\n",
      "           1       0.97      0.98      0.97       121\n",
      "\n",
      "    accuracy                           0.96       188\n",
      "   macro avg       0.96      0.96      0.96       188\n",
      "weighted avg       0.96      0.96      0.96       188\n",
      "\n",
      "-------------------------------------------------------\n",
      "Confusion Matrix\n",
      "\n"
     ]
    },
    {
     "data": {
      "text/plain": [
       "<sklearn.metrics._plot.confusion_matrix.ConfusionMatrixDisplay at 0x1cd09d89a00>"
      ]
     },
     "execution_count": 36,
     "metadata": {},
     "output_type": "execute_result"
    },
    {
     "data": {
      "image/png": "[encoded data removed]",
      "text/plain": [
       "<Figure size 3632x1135 with 2 Axes>"
      ]
     },
     "metadata": {},
     "output_type": "display_data"
    }
   ],
   "source": [
    "print(classification_report(y_test, y_pred))\n",
    "print('-'*55)\n",
    "print('Confusion Matrix\\n')\n",
    "from sklearn.metrics import confusion_matrix, ConfusionMatrixDisplay\n",
    "cm = confusion_matrix(y_test, y_pred, normalize='all')\n",
    "# cmd = ConfusionMatrixDisplay(cm, display_labels=['business','health'])\n",
    "cmd = ConfusionMatrixDisplay(cm)\n",
    "cmd.plot()"
   ]
  },
  {
   "cell_type": "markdown",
   "id": "d4d8c51b",
   "metadata": {},
   "source": [
    "using sicket learn for copmparing results"
   ]
  },
  {
   "cell_type": "code",
   "execution_count": 43,
   "id": "ee003fe0",
   "metadata": {},
   "outputs": [
    {
     "name": "stdout",
     "output_type": "stream",
     "text": [
      "0.9876543209876544\n"
     ]
    }
   ],
   "source": [
    "from sklearn.linear_model import LogisticRegression\n",
    "from sklearn.metrics import f1_score\n",
    "model = LogisticRegression().fit(X_train,y_train)\n",
    "y_pred = model.predict(X_test)\n",
    "print(f1_score(y_test,y_pred))"
   ]
  },
  {
   "cell_type": "code",
   "execution_count": 17,
   "id": "b99c62a5",
   "metadata": {},
   "outputs": [
    {
     "data": {
      "text/plain": [
       "\"plt.style.use('seaborn-whitegrid')\\nplt.rcParams['figure.dpi'] = 227\\nplt.rcParams['figure.figsize'] = (16,5)\\nplt.plot(logreg.loss)\\nplt.title('Logistic Regression Training', fontSize=15)\\nplt.xlabel('Epochs', fontSize=12)\\nplt.ylabel('Loss', fontSize=12)\\nplt.show()\""
      ]
     },
     "execution_count": 17,
     "metadata": {},
     "output_type": "execute_result"
    }
   ],
   "source": [
    "\"\"\"plt.style.use('seaborn-whitegrid')\n",
    "plt.rcParams['figure.dpi'] = 227\n",
    "plt.rcParams['figure.figsize'] = (16,5)\n",
    "plt.plot(logreg.loss)\n",
    "plt.title('Logistic Regression Training', fontSize=15)\n",
    "plt.xlabel('Epochs', fontSize=12)\n",
    "plt.ylabel('Loss', fontSize=12)\n",
    "plt.show()\"\"\""
   ]
  },
  {
   "cell_type": "code",
   "execution_count": null,
   "id": "661b1219",
   "metadata": {},
   "outputs": [],
   "source": [
    "X_train, X_test, y_train, y_test"
   ]
  }
 ],
 "metadata": {
  "kernelspec": {
   "display_name": "Python 3",
   "language": "python",
   "name": "python3"
  },
  "language_info": {
   "codemirror_mode": {
    "name": "ipython",
    "version": 3
   },
   "file_extension": ".py",
   "mimetype": "text/x-python",
   "name": "python",
   "nbconvert_exporter": "python",
   "pygments_lexer": "ipython3",
   "version": "3.8.8"
  }
 },
 "nbformat": 4,
 "nbformat_minor": 5
}
